{
 "cells": [
  {
   "cell_type": "code",
   "execution_count": 26,
   "metadata": {},
   "outputs": [],
   "source": [
    "import sys\n",
    "sys.path.append(\"../../src\")"
   ]
  },
  {
   "cell_type": "code",
   "execution_count": 27,
   "metadata": {},
   "outputs": [],
   "source": [
    "import numpy as np\n",
    "import cv2\n",
    "import pandas as pd\n",
    "from glob import glob\n",
    "import torch.nn as nn\n",
    "import json\n",
    "from torch.utils.data import Dataset, DataLoader\n",
    "from torchmetrics import AveragePrecision\n",
    "import torch\n",
    "import torchvision\n",
    "import os\n",
    "import torch.nn.functional as F\n",
    "import time\n",
    "import base64\n",
    "import typing as t\n",
    "import zlib\n",
    "from pycocotools import _mask as coco_mask\n",
    "import torchvision.transforms as T\n",
    "import pytorch_lightning as pl\n",
    "import segmentation_models_pytorch as smp\n",
    "from models.utils import load_yaml"
   ]
  },
  {
   "cell_type": "code",
   "execution_count": 28,
   "metadata": {},
   "outputs": [
    {
     "name": "stdout",
     "output_type": "stream",
     "text": [
      "D:/Machine_Learning/hubmap-hacking-the-human-vasculature/models/unet/version_1\n",
      "D:/Machine_Learning/hubmap-hacking-the-human-vasculature/src/models/config/unet.yaml\n"
     ]
    }
   ],
   "source": [
    "BASE_DIR = \"D:/Machine_Learning/hubmap-hacking-the-human-vasculature/\" \n",
    "MODEL_SAVE_PATH = os.path.join(BASE_DIR, \"models/unet/version_1\")\n",
    "CONFIG_PATH = os.path.join(BASE_DIR, \"src/models/config/unet.yaml\")\n",
    "MODEL_PATH = os.path.join(BASE_DIR, \"models/unet/version_1/model-f0-val_dice=0.6634.ckpt\")\n",
    "test_directory = os.path.join(BASE_DIR, \"data/test\")\n",
    "device = torch.device('cuda' if torch.cuda.is_available() else 'cpu')\n",
    "\n",
    "print(MODEL_SAVE_PATH)\n",
    "print(CONFIG_PATH)\n",
    "config = load_yaml(CONFIG_PATH)\n",
    "\n",
    "test_files = os.listdir(test_directory)\n",
    "test_paths = [os.path.join(test_directory, file) for file in test_files]"
   ]
  },
  {
   "cell_type": "code",
   "execution_count": 29,
   "metadata": {},
   "outputs": [],
   "source": [
    "class HUBMAPDataset(torch.utils.data.Dataset):\n",
    "    def __init__(self, test_files, image_size=512):\n",
    "        \n",
    "        self.test_files = test_files\n",
    "        self.normalize_image = T.Normalize((0.485, 0.456, 0.406), (0.229, 0.224, 0.225))\n",
    "        self.image_size = image_size\n",
    "        if image_size != 512:\n",
    "            self.resize_image = T.transforms.Resize(image_size)\n",
    "    \n",
    "\n",
    "    def __get_id(self, path: str) -> str:\n",
    "        \"\"\"Extracts image id from path\"\"\"\n",
    "        parts = path.split(\"\\\\\")\n",
    "        file_name = parts[-1]\n",
    "        identity = file_name.split(\".\")[0]\n",
    "        return identity\n",
    "    \n",
    "    def __get_image(self, path: str) -> np.array:\n",
    "        \"\"\"Gets Image From Path\"\"\"\n",
    "        image = cv2.imread(path)\n",
    "        image = image/255\n",
    "        return torch.tensor(np.reshape(image, (512, 512, 3))).to(torch.float32).permute(2, 0, 1)\n",
    "    \n",
    "    def __getitem__(self, index):\n",
    "        img_path = self.test_files[index]\n",
    "        img = self.__get_image(img_path)\n",
    "        img_id = self.__get_id(img_path)\n",
    "\n",
    "        if self.image_size != 512:\n",
    "            img = self.resize_image(img)\n",
    "        \n",
    "        img = self.normalize_image(img)\n",
    "        \n",
    "        return img.float(), img_id\n",
    "    \n",
    "    def __len__(self):\n",
    "        return len(self.test_files)"
   ]
  },
  {
   "cell_type": "code",
   "execution_count": 30,
   "metadata": {},
   "outputs": [],
   "source": [
    "ds = HUBMAPDataset(test_files=test_paths)\n",
    "test_dl = DataLoader(ds, batch_size=16)"
   ]
  },
  {
   "cell_type": "code",
   "execution_count": 31,
   "metadata": {},
   "outputs": [],
   "source": [
    "class TestTimeModule(pl.LightningModule):\n",
    "    def __init__(self):\n",
    "        super().__init__()\n",
    "        self.model = smp.Unet(encoder_name=\"timm-resnest26d\",\n",
    "                              encoder_weights=None,\n",
    "                              in_channels=3,\n",
    "                              classes=1,\n",
    "                              activation=None,\n",
    "                              )\n",
    "\n",
    "    def forward(self, batch):\n",
    "        return self.model(batch)"
   ]
  },
  {
   "cell_type": "code",
   "execution_count": 32,
   "metadata": {},
   "outputs": [],
   "source": [
    "image = test_dl"
   ]
  },
  {
   "cell_type": "code",
   "execution_count": 33,
   "metadata": {},
   "outputs": [],
   "source": [
    "model = TestTimeModule().load_from_checkpoint(MODEL_PATH, config=config[\"model\"])\n",
    "model.to(device)\n",
    "model.eval()\n",
    "\n",
    "all_predictions = []\n",
    "all_ids = []\n",
    "all_images = []\n",
    "\n",
    "with torch.no_grad():\n",
    "    for i, (images, labels) in enumerate(test_dl):\n",
    "        images = images.to(device)\n",
    "        ids = labels\n",
    "\n",
    "        predictions = model(images)\n",
    "        sigmoid_predictions = torch.sigmoid(predictions).permute(0, 2, 3, 1)\n",
    "\n",
    "        all_predictions.extend(sigmoid_predictions.cpu().numpy())\n",
    "        all_ids.append(ids)\n",
    "\n",
    "# all_predictions = np.transpose(np.array(all_predictions), (0, 2, 3, 1))"
   ]
  },
  {
   "cell_type": "code",
   "execution_count": 34,
   "metadata": {},
   "outputs": [
    {
     "name": "stdout",
     "output_type": "stream",
     "text": [
      "72e40acccadf\n"
     ]
    },
    {
     "data": {
      "text/plain": [
       "<matplotlib.image.AxesImage at 0x172f40614d0>"
      ]
     },
     "execution_count": 34,
     "metadata": {},
     "output_type": "execute_result"
    },
    {
     "data": {
      "image/png": "[encoded data removed]",
      "text/plain": [
       "<Figure size 640x480 with 1 Axes>"
      ]
     },
     "metadata": {},
     "output_type": "display_data"
    }
   ],
   "source": [
    "import matplotlib.pyplot as plt\n",
    "\n",
    "print(all_ids[0][0])\n",
    "plt.imshow(all_predictions[0])"
   ]
  },
  {
   "cell_type": "code",
   "execution_count": 35,
   "metadata": {},
   "outputs": [],
   "source": [
    "def get_watershed(prediction, plot=False):\n",
    "    normalized_prediction = cv2.normalize(prediction, None, 0, 255, cv2.NORM_MINMAX, cv2.CV_8UC3)\n",
    "    ret, thresh = cv2.threshold(normalized_prediction, 0, 255, cv2.THRESH_BINARY + cv2.THRESH_OTSU)\n",
    "    \n",
    "    kernel = np.ones((3,3),np.uint8)\n",
    "    opening = cv2.morphologyEx(thresh,cv2.MORPH_OPEN,kernel, iterations = 4)\n",
    "    \n",
    "    sure_bg = cv2.dilate(opening,kernel,iterations=3)\n",
    "    \n",
    "    dist_transform = cv2.distanceTransform(opening,cv2.DIST_L2,5)\n",
    "    ret, sure_fg = cv2.threshold(dist_transform,0.15*dist_transform.max(),255,0)\n",
    "    \n",
    "    sure_fg = np.uint8(sure_fg)\n",
    "    unknown = cv2.subtract(sure_bg,sure_fg)\n",
    "    \n",
    "    ret3, markers = cv2.connectedComponents(sure_fg)\n",
    "    \n",
    "    markers_norm = np.int32(markers + 10)\n",
    "    markers_norm[unknown == 255] = 0\n",
    "    \n",
    "    prediction_rgb = cv2.cvtColor(prediction.astype(np.float32), cv2.COLOR_GRAY2BGR)\n",
    "    image_cv = np.uint8(prediction_rgb)\n",
    "\n",
    "    markers = cv2.watershed(image_cv, markers_norm)\n",
    "    \n",
    "    if plot:\n",
    "        fig, axs = plt.subplots(6, 1, figsize=(6, 6 * 6))\n",
    "        \n",
    "        axs[0].imshow(thresh, cmap='gray')\n",
    "        axs[0].set_title(\"Thresholded Prediction\")\n",
    "        \n",
    "        axs[1].imshow(opening, cmap='gray')\n",
    "        axs[1].set_title('Prediction after removing noise')\n",
    "            \n",
    "        axs[2].imshow(sure_bg, cmap='gray')\n",
    "        axs[2].set_title('Sure Background')\n",
    "        \n",
    "        axs[3].imshow(sure_fg, cmap='gray')\n",
    "        axs[3].set_title('Sure Foreground')\n",
    "        \n",
    "        axs[4].imshow(unknown, cmap='gray')\n",
    "        axs[4].set_title('Unknown Region')\n",
    "        \n",
    "        axs[5].imshow(markers, cmap='gray')\n",
    "        axs[5].set_title('Watershed image (instantiated image)')\n",
    "        \n",
    "        plt.show()\n",
    "    return markers\n",
    "\n",
    "def get_binary_masks(markers, background_label=10, marker_label=-1):\n",
    "    \"\"\"\n",
    "    takes watershed markers and \n",
    "    \"\"\"\n",
    "    unique_labels = np.unique(markers)\n",
    "    \n",
    "    if background_label in unique_labels:\n",
    "        unique_labels = unique_labels[unique_labels != background_label]\n",
    "    if marker_label in unique_labels:\n",
    "        unique_labels = unique_labels[unique_labels != marker_label]\n",
    "\n",
    "    binary_masks = []\n",
    "\n",
    "    for label in unique_labels:\n",
    "        mask = np.where(markers == label, 1, 0).astype(np.uint8)\n",
    "        kernel = np.ones((3, 3), np.uint8)\n",
    "        mask = cv2.dilate(mask, kernel, iterations=4)\n",
    "        binary_masks.append(mask)\n",
    "        \n",
    "    return binary_masks\n",
    "\n",
    "def plot_binary_masks(prediction):\n",
    "    markers = get_watershed(prediction)\n",
    "    binary_masks = get_binary_masks(markers)\n",
    "\n",
    "    fig, axs = plt.subplots(len(binary_masks), 1, figsize=(6,len(binary_masks) * 6))\n",
    "    for i, mask in enumerate(binary_masks):\n",
    "        axs[i].imshow(mask, cmap='gray')\n",
    "        axs[i].set_title(f\"Instance Segmentation {i + 1}\")\n",
    "        \n",
    "def encode_binary_mask(mask: np.ndarray) -> str:\n",
    "    # Check input mask\n",
    "    if mask.dtype != np.bool_:\n",
    "        raise ValueError(\n",
    "            \"encode_binary_mask expects a binary mask, received dtype == %s\" %\n",
    "            mask.dtype)\n",
    "\n",
    "    mask = np.squeeze(mask)\n",
    "    if len(mask.shape) != 2:\n",
    "        raise ValueError(\n",
    "            \"encode_binary_mask expects a 2d mask, received shape == %s\" %\n",
    "            mask.shape)\n",
    "\n",
    "    # convert input mask to expected COCO API input --\n",
    "    mask_to_encode = mask.reshape(mask.shape[0], mask.shape[1], 1)\n",
    "    mask_to_encode = mask_to_encode.astype(np.uint8)\n",
    "    mask_to_encode = np.asfortranarray(mask_to_encode)\n",
    "\n",
    "    # RLE encode mask --\n",
    "    encoded_mask = coco_mask.encode(mask_to_encode)[0][\"counts\"]\n",
    "\n",
    "    # compress and base64 encoding --\n",
    "    binary_str = zlib.compress(encoded_mask, zlib.Z_BEST_COMPRESSION)\n",
    "    base64_str = base64.b64encode(binary_str)\n",
    "    return base64_str\n",
    "\n",
    "def encode_all_masks(binary_masks):\n",
    "    encoded_masks = []\n",
    "    for mask in binary_masks:\n",
    "        encoded_mask = encode_binary_mask(mask.astype(np.bool_))\n",
    "        encoded_masks.append(encoded_mask.decode('utf-8'))\n",
    "    prefixed_masks = ['0 1.0 ' + mask for mask in encoded_masks]\n",
    "    encoded_preds = ' '.join(prefixed_masks)\n",
    "    return encoded_preds\n",
    "\n",
    "def create_submission(all_predictions, all_ids):\n",
    "    predictions = []\n",
    "    image_ids = []\n",
    "    for i, prediction in enumerate(all_predictions):\n",
    "        markers = get_watershed(prediction, plot=False)\n",
    "        binary_masks = get_binary_masks(markers)\n",
    "        encoded_preds = encode_all_masks(binary_masks)\n",
    "        image_ids.append(all_ids[i][0])     \n",
    "        predictions.append(encoded_preds)\n",
    "\n",
    "    df = pd.DataFrame({'id': image_ids, 'height': 512, 'width':512 ,'prediction_string': predictions})\n",
    "\n",
    "    return df"
   ]
  },
  {
   "cell_type": "code",
   "execution_count": 36,
   "metadata": {},
   "outputs": [
    {
     "data": {
      "text/html": [
       "<div>\n",
       "<style scoped>\n",
       "    .dataframe tbody tr th:only-of-type {\n",
       "        vertical-align: middle;\n",
       "    }\n",
       "\n",
       "    .dataframe tbody tr th {\n",
       "        vertical-align: top;\n",
       "    }\n",
       "\n",
       "    .dataframe thead th {\n",
       "        text-align: right;\n",
       "    }\n",
       "</style>\n",
       "<table border=\"1\" class=\"dataframe\">\n",
       "  <thead>\n",
       "    <tr style=\"text-align: right;\">\n",
       "      <th></th>\n",
       "      <th>id</th>\n",
       "      <th>height</th>\n",
       "      <th>width</th>\n",
       "      <th>prediction_string</th>\n",
       "    </tr>\n",
       "  </thead>\n",
       "  <tbody>\n",
       "    <tr>\n",
       "      <th>0</th>\n",
       "      <td>72e40acccadf</td>\n",
       "      <td>512</td>\n",
       "      <td>512</td>\n",
       "      <td>0 1.0 eNoLCDC2yLA39DcAAwht6G/kB2LBeAY4gL8hggZh...</td>\n",
       "    </tr>\n",
       "  </tbody>\n",
       "</table>\n",
       "</div>"
      ],
      "text/plain": [
       "             id  height  width  \\\n",
       "0  72e40acccadf     512    512   \n",
       "\n",
       "                                   prediction_string  \n",
       "0  0 1.0 eNoLCDC2yLA39DcAAwht6G/kB2LBeAY4gL8hggZh...  "
      ]
     },
     "execution_count": 36,
     "metadata": {},
     "output_type": "execute_result"
    }
   ],
   "source": [
    "df = create_submission(all_predictions, all_ids)\n",
    "df.to_csv('submission.csv', index=False)\n",
    "df.head()"
   ]
  }
 ],
 "metadata": {
  "kernelspec": {
   "display_name": "pytorch",
   "language": "python",
   "name": "python3"
  },
  "language_info": {
   "codemirror_mode": {
    "name": "ipython",
    "version": 3
   },
   "file_extension": ".py",
   "mimetype": "text/x-python",
   "name": "python",
   "nbconvert_exporter": "python",
   "pygments_lexer": "ipython3",
   "version": "3.11.4"
  },
  "orig_nbformat": 4
 },
 "nbformat": 4,
 "nbformat_minor": 2
}
