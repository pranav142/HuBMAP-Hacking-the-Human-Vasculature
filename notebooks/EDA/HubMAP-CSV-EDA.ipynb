{
 "cells": [
  {
   "cell_type": "markdown",
   "id": "196c10e1",
   "metadata": {
    "papermill": {
     "duration": 0.024422,
     "end_time": "2023-07-11T21:17:46.008591",
     "exception": false,
     "start_time": "2023-07-11T21:17:45.984169",
     "status": "completed"
    },
    "tags": []
   },
   "source": [
    "# <center style=\"font-family: consolas; font-size: 32px; font-weight: bold;\"> HuBMAP - Hacking The Human Vasculature </center>\n",
    "***"
   ]
  },
  {
   "cell_type": "code",
   "execution_count": 1,
   "id": "f1689ccd",
   "metadata": {
    "execution": {
     "iopub.execute_input": "2023-07-11T21:18:17.422230Z",
     "iopub.status.busy": "2023-07-11T21:18:17.421883Z",
     "iopub.status.idle": "2023-07-11T21:18:24.071341Z",
     "shell.execute_reply": "2023-07-11T21:18:24.069548Z"
    },
    "papermill": {
     "duration": 6.670919,
     "end_time": "2023-07-11T21:18:24.073571",
     "exception": false,
     "start_time": "2023-07-11T21:18:17.402652",
     "status": "completed"
    },
    "tags": []
   },
   "outputs": [],
   "source": [
    "import numpy as np\n",
    "import pandas as pd\n",
    "import matplotlib.pyplot as plt\n",
    "import os\n",
    "from collections import Counter\n",
    "from typing import Callable\n",
    "import random\n",
    "\n",
    "from PIL import Image\n",
    "import imageio\n",
    "import json \n",
    "import cv2\n",
    "import glob\n",
    "from pycocotools import _mask as coco_mask\n",
    "import logging\n",
    "import functools\n",
    "\n",
    "import base64\n",
    "import numpy as np\n",
    "import typing as t\n",
    "import zlib"
   ]
  },
  {
   "cell_type": "code",
   "execution_count": 2,
   "id": "8be552de",
   "metadata": {
    "execution": {
     "iopub.execute_input": "2023-07-11T21:18:24.111783Z",
     "iopub.status.busy": "2023-07-11T21:18:24.111197Z",
     "iopub.status.idle": "2023-07-11T21:18:24.115277Z",
     "shell.execute_reply": "2023-07-11T21:18:24.114363Z"
    },
    "papermill": {
     "duration": 0.025408,
     "end_time": "2023-07-11T21:18:24.117445",
     "exception": false,
     "start_time": "2023-07-11T21:18:24.092037",
     "status": "completed"
    },
    "tags": []
   },
   "outputs": [],
   "source": [
    "# tf.random.set_seed(42)\n",
    "# np.random.seed(42)"
   ]
  },
  {
   "cell_type": "markdown",
   "id": "1e376fdd",
   "metadata": {
    "papermill": {
     "duration": 0.01782,
     "end_time": "2023-07-11T21:18:24.153765",
     "exception": false,
     "start_time": "2023-07-11T21:18:24.135945",
     "status": "completed"
    },
    "tags": []
   },
   "source": [
    "## The Goal:\n",
    "The goal of this competition is to segment instances of microvascular structures, including capillaries, arterioles, and venules.  \n",
    "### Submission:  \n",
    "For each image in the test set, you must predict a list of instance segmentation masks and their associated detection score (Confidence).\n",
    "### The Evaluation Metric:\n",
    "Submissions are evaluated by computing mean Average Precision"
   ]
  },
  {
   "cell_type": "code",
   "execution_count": 3,
   "id": "ba98af4c",
   "metadata": {
    "execution": {
     "iopub.execute_input": "2023-07-11T21:18:24.191368Z",
     "iopub.status.busy": "2023-07-11T21:18:24.191068Z",
     "iopub.status.idle": "2023-07-11T21:18:24.216272Z",
     "shell.execute_reply": "2023-07-11T21:18:24.215420Z"
    },
    "papermill": {
     "duration": 0.046556,
     "end_time": "2023-07-11T21:18:24.218558",
     "exception": false,
     "start_time": "2023-07-11T21:18:24.172002",
     "status": "completed"
    },
    "tags": []
   },
   "outputs": [],
   "source": [
    "BASE_DIR = \"D:\\\\Machine_Learning\\\\hubmap-hacking-the-human-vasculature\\\\data\\\\\"\n",
    "\n",
    "tile_metadata = pd.read_csv(BASE_DIR + 'tile_meta.csv')\n",
    "wsi_metadata = pd.read_csv(BASE_DIR + 'wsi_meta.csv')"
   ]
  },
  {
   "cell_type": "code",
   "execution_count": 4,
   "id": "416b3831",
   "metadata": {
    "execution": {
     "iopub.execute_input": "2023-07-11T21:18:24.257720Z",
     "iopub.status.busy": "2023-07-11T21:18:24.256049Z",
     "iopub.status.idle": "2023-07-11T21:18:24.339686Z",
     "shell.execute_reply": "2023-07-11T21:18:24.338593Z"
    },
    "papermill": {
     "duration": 0.105665,
     "end_time": "2023-07-11T21:18:24.342210",
     "exception": false,
     "start_time": "2023-07-11T21:18:24.236545",
     "status": "completed"
    },
    "tags": []
   },
   "outputs": [
    {
     "name": "stdout",
     "output_type": "stream",
     "text": [
      "There are 7033 training examples and 1 test files\n"
     ]
    }
   ],
   "source": [
    "train_files = os.listdir(BASE_DIR + \"train\")\n",
    "test_files = os.listdir(BASE_DIR + \"test\")\n",
    "\n",
    "print(f\"There are {len(train_files)} training examples and {len(test_files)} test files\")"
   ]
  },
  {
   "cell_type": "markdown",
   "id": "8828286c",
   "metadata": {
    "papermill": {
     "duration": 0.01831,
     "end_time": "2023-07-11T21:18:24.379178",
     "exception": false,
     "start_time": "2023-07-11T21:18:24.360868",
     "status": "completed"
    },
    "tags": []
   },
   "source": [
    "## Understanding Tile Metadata\n",
    "\n",
    "The competition data includes small pieces called \"tiles\" that come from five big pictures called \"Whole Slide Images\" (WSI). These WSIs are split into two groups called datasets. In Dataset 1, the tiles have been looked at by experts who reviewed and marked them. In Dataset 2, the tiles are from the same big pictures but they don't have as many marks, and the marks they do have haven't been reviewed by experts.\n",
    "\n",
    "- **source_wsi** Identifies the WSI this tile was extracted from.\n",
    "- **{i|j}** The location of the upper-left corner within the WSI where the tile was extracted.  \n",
    "- **dataset** The dataset this tile belongs to, as described above."
   ]
  },
  {
   "cell_type": "code",
   "execution_count": 5,
   "id": "41d03c0c",
   "metadata": {
    "execution": {
     "iopub.execute_input": "2023-07-11T21:18:24.416739Z",
     "iopub.status.busy": "2023-07-11T21:18:24.416374Z",
     "iopub.status.idle": "2023-07-11T21:18:24.434005Z",
     "shell.execute_reply": "2023-07-11T21:18:24.432440Z"
    },
    "papermill": {
     "duration": 0.039055,
     "end_time": "2023-07-11T21:18:24.436188",
     "exception": false,
     "start_time": "2023-07-11T21:18:24.397133",
     "status": "completed"
    },
    "tags": []
   },
   "outputs": [
    {
     "data": {
      "text/html": [
       "<div>\n",
       "<style scoped>\n",
       "    .dataframe tbody tr th:only-of-type {\n",
       "        vertical-align: middle;\n",
       "    }\n",
       "\n",
       "    .dataframe tbody tr th {\n",
       "        vertical-align: top;\n",
       "    }\n",
       "\n",
       "    .dataframe thead th {\n",
       "        text-align: right;\n",
       "    }\n",
       "</style>\n",
       "<table border=\"1\" class=\"dataframe\">\n",
       "  <thead>\n",
       "    <tr style=\"text-align: right;\">\n",
       "      <th></th>\n",
       "      <th>id</th>\n",
       "      <th>source_wsi</th>\n",
       "      <th>dataset</th>\n",
       "      <th>i</th>\n",
       "      <th>j</th>\n",
       "    </tr>\n",
       "  </thead>\n",
       "  <tbody>\n",
       "    <tr>\n",
       "      <th>0</th>\n",
       "      <td>0006ff2aa7cd</td>\n",
       "      <td>2</td>\n",
       "      <td>2</td>\n",
       "      <td>16896</td>\n",
       "      <td>16420</td>\n",
       "    </tr>\n",
       "    <tr>\n",
       "      <th>1</th>\n",
       "      <td>000e79e206b7</td>\n",
       "      <td>6</td>\n",
       "      <td>3</td>\n",
       "      <td>10240</td>\n",
       "      <td>29184</td>\n",
       "    </tr>\n",
       "    <tr>\n",
       "      <th>2</th>\n",
       "      <td>00168d1b7522</td>\n",
       "      <td>2</td>\n",
       "      <td>2</td>\n",
       "      <td>14848</td>\n",
       "      <td>14884</td>\n",
       "    </tr>\n",
       "    <tr>\n",
       "      <th>3</th>\n",
       "      <td>00176a88fdb0</td>\n",
       "      <td>7</td>\n",
       "      <td>3</td>\n",
       "      <td>14848</td>\n",
       "      <td>25088</td>\n",
       "    </tr>\n",
       "    <tr>\n",
       "      <th>4</th>\n",
       "      <td>0033bbc76b6b</td>\n",
       "      <td>1</td>\n",
       "      <td>1</td>\n",
       "      <td>10240</td>\n",
       "      <td>43008</td>\n",
       "    </tr>\n",
       "  </tbody>\n",
       "</table>\n",
       "</div>"
      ],
      "text/plain": [
       "             id  source_wsi  dataset      i      j\n",
       "0  0006ff2aa7cd           2        2  16896  16420\n",
       "1  000e79e206b7           6        3  10240  29184\n",
       "2  00168d1b7522           2        2  14848  14884\n",
       "3  00176a88fdb0           7        3  14848  25088\n",
       "4  0033bbc76b6b           1        1  10240  43008"
      ]
     },
     "execution_count": 5,
     "metadata": {},
     "output_type": "execute_result"
    }
   ],
   "source": [
    "tile_metadata.head()"
   ]
  },
  {
   "cell_type": "code",
   "execution_count": 6,
   "id": "734a8097",
   "metadata": {
    "execution": {
     "iopub.execute_input": "2023-07-11T21:18:24.474150Z",
     "iopub.status.busy": "2023-07-11T21:18:24.473843Z",
     "iopub.status.idle": "2023-07-11T21:18:24.498431Z",
     "shell.execute_reply": "2023-07-11T21:18:24.496735Z"
    },
    "papermill": {
     "duration": 0.046108,
     "end_time": "2023-07-11T21:18:24.500570",
     "exception": false,
     "start_time": "2023-07-11T21:18:24.454462",
     "status": "completed"
    },
    "tags": []
   },
   "outputs": [
    {
     "data": {
      "text/html": [
       "<div>\n",
       "<style scoped>\n",
       "    .dataframe tbody tr th:only-of-type {\n",
       "        vertical-align: middle;\n",
       "    }\n",
       "\n",
       "    .dataframe tbody tr th {\n",
       "        vertical-align: top;\n",
       "    }\n",
       "\n",
       "    .dataframe thead th {\n",
       "        text-align: right;\n",
       "    }\n",
       "</style>\n",
       "<table border=\"1\" class=\"dataframe\">\n",
       "  <thead>\n",
       "    <tr style=\"text-align: right;\">\n",
       "      <th></th>\n",
       "      <th>source_wsi</th>\n",
       "      <th>dataset</th>\n",
       "      <th>i</th>\n",
       "      <th>j</th>\n",
       "    </tr>\n",
       "  </thead>\n",
       "  <tbody>\n",
       "    <tr>\n",
       "      <th>count</th>\n",
       "      <td>7033.000000</td>\n",
       "      <td>7033.000000</td>\n",
       "      <td>7033.000000</td>\n",
       "      <td>7033.000000</td>\n",
       "    </tr>\n",
       "    <tr>\n",
       "      <th>mean</th>\n",
       "      <td>8.205744</td>\n",
       "      <td>2.707806</td>\n",
       "      <td>14296.542585</td>\n",
       "      <td>23227.014930</td>\n",
       "    </tr>\n",
       "    <tr>\n",
       "      <th>std</th>\n",
       "      <td>4.004251</td>\n",
       "      <td>0.571724</td>\n",
       "      <td>5946.054578</td>\n",
       "      <td>10644.032931</td>\n",
       "    </tr>\n",
       "    <tr>\n",
       "      <th>min</th>\n",
       "      <td>1.000000</td>\n",
       "      <td>1.000000</td>\n",
       "      <td>1536.000000</td>\n",
       "      <td>2560.000000</td>\n",
       "    </tr>\n",
       "    <tr>\n",
       "      <th>25%</th>\n",
       "      <td>6.000000</td>\n",
       "      <td>3.000000</td>\n",
       "      <td>9728.000000</td>\n",
       "      <td>15265.000000</td>\n",
       "    </tr>\n",
       "    <tr>\n",
       "      <th>50%</th>\n",
       "      <td>9.000000</td>\n",
       "      <td>3.000000</td>\n",
       "      <td>13824.000000</td>\n",
       "      <td>22528.000000</td>\n",
       "    </tr>\n",
       "    <tr>\n",
       "      <th>75%</th>\n",
       "      <td>12.000000</td>\n",
       "      <td>3.000000</td>\n",
       "      <td>18944.000000</td>\n",
       "      <td>29656.000000</td>\n",
       "    </tr>\n",
       "    <tr>\n",
       "      <th>max</th>\n",
       "      <td>14.000000</td>\n",
       "      <td>3.000000</td>\n",
       "      <td>30208.000000</td>\n",
       "      <td>52753.000000</td>\n",
       "    </tr>\n",
       "  </tbody>\n",
       "</table>\n",
       "</div>"
      ],
      "text/plain": [
       "        source_wsi      dataset             i             j\n",
       "count  7033.000000  7033.000000   7033.000000   7033.000000\n",
       "mean      8.205744     2.707806  14296.542585  23227.014930\n",
       "std       4.004251     0.571724   5946.054578  10644.032931\n",
       "min       1.000000     1.000000   1536.000000   2560.000000\n",
       "25%       6.000000     3.000000   9728.000000  15265.000000\n",
       "50%       9.000000     3.000000  13824.000000  22528.000000\n",
       "75%      12.000000     3.000000  18944.000000  29656.000000\n",
       "max      14.000000     3.000000  30208.000000  52753.000000"
      ]
     },
     "execution_count": 6,
     "metadata": {},
     "output_type": "execute_result"
    }
   ],
   "source": [
    "tile_metadata.describe()"
   ]
  },
  {
   "cell_type": "markdown",
   "id": "f48077b8",
   "metadata": {
    "papermill": {
     "duration": 0.018326,
     "end_time": "2023-07-11T21:18:24.537796",
     "exception": false,
     "start_time": "2023-07-11T21:18:24.519470",
     "status": "completed"
    },
    "tags": []
   },
   "source": [
    "## Understanding the Dataset Column\n",
    "\n",
    "1. All of the test set tiles are from Dataset 1.\n",
    "2. Tiles from Dataset 1 have annotations that have been expert reviewed\n",
    "3. Dataset 2 comprises the remaining tiles from these same WSIs and contain sparse annotations that have not been expert reviewed.\n",
    "4. Datset 3 includes tiles that have not been annotated"
   ]
  },
  {
   "cell_type": "code",
   "execution_count": 7,
   "id": "2508041e",
   "metadata": {
    "execution": {
     "iopub.execute_input": "2023-07-11T21:18:24.578245Z",
     "iopub.status.busy": "2023-07-11T21:18:24.577973Z",
     "iopub.status.idle": "2023-07-11T21:18:24.587015Z",
     "shell.execute_reply": "2023-07-11T21:18:24.585866Z"
    },
    "papermill": {
     "duration": 0.03045,
     "end_time": "2023-07-11T21:18:24.589144",
     "exception": false,
     "start_time": "2023-07-11T21:18:24.558694",
     "status": "completed"
    },
    "tags": []
   },
   "outputs": [
    {
     "name": "stdout",
     "output_type": "stream",
     "text": [
      "There are 3 unique datasets: [2 3 1]\n"
     ]
    }
   ],
   "source": [
    "number_of_datasets = tile_metadata[\"dataset\"].unique()\n",
    "print(f\"There are {len(number_of_datasets)} unique datasets: {number_of_datasets}\")"
   ]
  },
  {
   "cell_type": "markdown",
   "id": "13e18137",
   "metadata": {
    "papermill": {
     "duration": 0.01819,
     "end_time": "2023-07-11T21:18:24.626192",
     "exception": false,
     "start_time": "2023-07-11T21:18:24.608002",
     "status": "completed"
    },
    "tags": []
   },
   "source": [
    "As we can see dataset 3 has the most examples however it is not annotated so we will need to use semi or self supervised learning techniques in order to use this data for predictions. We also see that the dataset 1 has the least amount of examples which is quite unfortunate since these annotations were created by experts"
   ]
  },
  {
   "cell_type": "code",
   "execution_count": 8,
   "id": "eab64f67",
   "metadata": {
    "execution": {
     "iopub.execute_input": "2023-07-11T21:18:24.664268Z",
     "iopub.status.busy": "2023-07-11T21:18:24.664002Z",
     "iopub.status.idle": "2023-07-11T21:18:24.881036Z",
     "shell.execute_reply": "2023-07-11T21:18:24.880107Z"
    },
    "papermill": {
     "duration": 0.238571,
     "end_time": "2023-07-11T21:18:24.883076",
     "exception": false,
     "start_time": "2023-07-11T21:18:24.644505",
     "status": "completed"
    },
    "tags": []
   },
   "outputs": [
    {
     "data": {
      "image/png": "[encoded data removed]",
      "text/plain": [
       "<Figure size 640x480 with 1 Axes>"
      ]
     },
     "metadata": {},
     "output_type": "display_data"
    }
   ],
   "source": [
    "dataset_count = tile_metadata['dataset'].value_counts()\n",
    "\n",
    "plt.bar(list(map(str, dataset_count.index)), dataset_count.values)\n",
    "\n",
    "plt.xlabel('Dataset Number')\n",
    "plt.ylabel('Number of Examples')\n",
    "plt.title('Number of examples in each dataset')\n",
    "\n",
    "plt.show()"
   ]
  },
  {
   "cell_type": "code",
   "execution_count": 9,
   "id": "4e6d8c88",
   "metadata": {
    "execution": {
     "iopub.execute_input": "2023-07-11T21:18:24.923172Z",
     "iopub.status.busy": "2023-07-11T21:18:24.922742Z",
     "iopub.status.idle": "2023-07-11T21:18:24.927860Z",
     "shell.execute_reply": "2023-07-11T21:18:24.926966Z"
    },
    "papermill": {
     "duration": 0.027845,
     "end_time": "2023-07-11T21:18:24.930299",
     "exception": false,
     "start_time": "2023-07-11T21:18:24.902454",
     "status": "completed"
    },
    "tags": []
   },
   "outputs": [
    {
     "name": "stdout",
     "output_type": "stream",
     "text": [
      "Number of unlabbeled images: 5400, Number of annotated images: 1633\n"
     ]
    }
   ],
   "source": [
    "print(f\"Number of unlabbeled images: {dataset_count[dataset_count.index == 3].values[0]}, Number of annotated images: {np.sum(dataset_count[dataset_count.index != 3].values)}\")"
   ]
  },
  {
   "cell_type": "markdown",
   "id": "6381c371",
   "metadata": {
    "papermill": {
     "duration": 0.018924,
     "end_time": "2023-07-11T21:18:24.968179",
     "exception": false,
     "start_time": "2023-07-11T21:18:24.949255",
     "status": "completed"
    },
    "tags": []
   },
   "source": [
    "## Understanding Source WSI\n",
    "\n",
    "Whole Slide Images (WSIs), also known as virtual slides or digital slides, refer to high-resolution digital representations of entire histopathology glass slides. These slides are typically generated by scanning glass slides using specialized slide scanners.\n",
    "\n",
    "We should expect 14 unique sources of WSIs where 5 have been used for annotations by either a expert or non expert which then get put into dataset 1 and 2 respectively, and the other 9 correspond to WSIs for dataset 3 which have no annotations. Although we should expect 14 we see that there is only thirteen. A keen eye would see that number 5 is missing. This is probably because the 5th WSI belongs to the first dataset and was removed from the dataset to be used as the test set."
   ]
  },
  {
   "cell_type": "code",
   "execution_count": 10,
   "id": "66e13a28",
   "metadata": {
    "execution": {
     "iopub.execute_input": "2023-07-11T21:18:25.007148Z",
     "iopub.status.busy": "2023-07-11T21:18:25.006608Z",
     "iopub.status.idle": "2023-07-11T21:18:25.012813Z",
     "shell.execute_reply": "2023-07-11T21:18:25.011832Z"
    },
    "papermill": {
     "duration": 0.027849,
     "end_time": "2023-07-11T21:18:25.014828",
     "exception": false,
     "start_time": "2023-07-11T21:18:24.986979",
     "status": "completed"
    },
    "tags": []
   },
   "outputs": [
    {
     "name": "stdout",
     "output_type": "stream",
     "text": [
      " There are 13 unique source WSIs: [1, 2, 3, 4, 6, 7, 8, 9, 10, 11, 12, 13, 14]\n"
     ]
    }
   ],
   "source": [
    "print(f\" There are {len(np.unique(tile_metadata.source_wsi))} unique source WSIs: {list(np.unique(tile_metadata.source_wsi))}\")"
   ]
  },
  {
   "cell_type": "markdown",
   "id": "54d183e9",
   "metadata": {
    "papermill": {
     "duration": 0.018617,
     "end_time": "2023-07-11T21:18:25.052555",
     "exception": false,
     "start_time": "2023-07-11T21:18:25.033938",
     "status": "completed"
    },
    "tags": []
   },
   "source": [
    "As we can see most of the Whole Slide Images (WSIs) contain 600 tiles"
   ]
  },
  {
   "cell_type": "code",
   "execution_count": 11,
   "id": "c75e0f97",
   "metadata": {
    "execution": {
     "iopub.execute_input": "2023-07-11T21:18:25.092282Z",
     "iopub.status.busy": "2023-07-11T21:18:25.091517Z",
     "iopub.status.idle": "2023-07-11T21:18:25.345644Z",
     "shell.execute_reply": "2023-07-11T21:18:25.344810Z"
    },
    "papermill": {
     "duration": 0.276102,
     "end_time": "2023-07-11T21:18:25.347636",
     "exception": false,
     "start_time": "2023-07-11T21:18:25.071534",
     "status": "completed"
    },
    "tags": []
   },
   "outputs": [
    {
     "data": {
      "image/png": "[encoded data removed]",
      "text/plain": [
       "<Figure size 640x480 with 1 Axes>"
      ]
     },
     "metadata": {},
     "output_type": "display_data"
    }
   ],
   "source": [
    "source_wsi_count = Counter(tile_metadata.source_wsi)\n",
    "\n",
    "plt.bar(list(map(int, source_wsi_count.keys())), source_wsi_count.values())\n",
    "\n",
    "plt.xlabel(\"Source wsi number\")\n",
    "plt.ylabel(\"Number of tiles\")\n",
    "plt.title(\"Number of tiles in each wsi in the dataset\")\n",
    "\n",
    "plt.show()"
   ]
  },
  {
   "cell_type": "markdown",
   "id": "f603113f",
   "metadata": {
    "papermill": {
     "duration": 0.019367,
     "end_time": "2023-07-11T21:18:25.388002",
     "exception": false,
     "start_time": "2023-07-11T21:18:25.368635",
     "status": "completed"
    },
    "tags": []
   },
   "source": [
    "As we can see there are 9 WSIs used for dataset 3 and these are never used in dataset 1 and 2. We see dataset 2 has two unique WSIs 3 and 4 while WSIs 1 and 2 are split across dataset 1 and dataset 2. This means tiles from WSI 1 and 2 are annotated by experts or non experts, while tiles from WSIs 3 and 4 are labelled entierely by non experts and tiles from WSI 6, 7, 8, 9, 10, 11, 12, 13, 14 are not labelled at all"
   ]
  },
  {
   "cell_type": "code",
   "execution_count": 12,
   "id": "5607aea4",
   "metadata": {
    "execution": {
     "iopub.execute_input": "2023-07-11T21:18:25.428650Z",
     "iopub.status.busy": "2023-07-11T21:18:25.427820Z",
     "iopub.status.idle": "2023-07-11T21:18:25.440227Z",
     "shell.execute_reply": "2023-07-11T21:18:25.439028Z"
    },
    "papermill": {
     "duration": 0.035339,
     "end_time": "2023-07-11T21:18:25.442609",
     "exception": false,
     "start_time": "2023-07-11T21:18:25.407270",
     "status": "completed"
    },
    "tags": []
   },
   "outputs": [
    {
     "name": "stdout",
     "output_type": "stream",
     "text": [
      "9 WSIs in dataset_3 : [ 6  7  8  9 10 11 12 13 14], 4 WSIs in dataset_2 : [2 3 4 1],2 WSIs in dataset_1: [1 2]\n"
     ]
    }
   ],
   "source": [
    "tile_metadata_ds = tile_metadata.groupby(\"dataset\")\n",
    "\n",
    "unique_wsi_3 = tile_metadata_ds.get_group(3).source_wsi.unique()\n",
    "unique_wsi_2 = tile_metadata_ds.get_group(2).source_wsi.unique()\n",
    "unique_wsi_1 = tile_metadata_ds.get_group(1).source_wsi.unique()\n",
    "\n",
    "print(f\"{len(unique_wsi_3)} WSIs in dataset_3 : {unique_wsi_3}, {len(unique_wsi_2)} WSIs in dataset_2 : {unique_wsi_2},{len(unique_wsi_1)} WSIs in dataset_1: {unique_wsi_1}\")"
   ]
  },
  {
   "cell_type": "markdown",
   "id": "7f456d32",
   "metadata": {
    "papermill": {
     "duration": 0.019375,
     "end_time": "2023-07-11T21:18:25.481980",
     "exception": false,
     "start_time": "2023-07-11T21:18:25.462605",
     "status": "completed"
    },
    "tags": []
   },
   "source": [
    "## Understanding the Whole Slide Image metdata"
   ]
  },
  {
   "cell_type": "code",
   "execution_count": 13,
   "id": "37b0a4b9",
   "metadata": {
    "execution": {
     "iopub.execute_input": "2023-07-11T21:18:25.522645Z",
     "iopub.status.busy": "2023-07-11T21:18:25.522363Z",
     "iopub.status.idle": "2023-07-11T21:18:25.534380Z",
     "shell.execute_reply": "2023-07-11T21:18:25.533504Z"
    },
    "papermill": {
     "duration": 0.034396,
     "end_time": "2023-07-11T21:18:25.536340",
     "exception": false,
     "start_time": "2023-07-11T21:18:25.501944",
     "status": "completed"
    },
    "tags": []
   },
   "outputs": [
    {
     "data": {
      "text/html": [
       "<div>\n",
       "<style scoped>\n",
       "    .dataframe tbody tr th:only-of-type {\n",
       "        vertical-align: middle;\n",
       "    }\n",
       "\n",
       "    .dataframe tbody tr th {\n",
       "        vertical-align: top;\n",
       "    }\n",
       "\n",
       "    .dataframe thead th {\n",
       "        text-align: right;\n",
       "    }\n",
       "</style>\n",
       "<table border=\"1\" class=\"dataframe\">\n",
       "  <thead>\n",
       "    <tr style=\"text-align: right;\">\n",
       "      <th></th>\n",
       "      <th>source_wsi</th>\n",
       "      <th>age</th>\n",
       "      <th>sex</th>\n",
       "      <th>race</th>\n",
       "      <th>height</th>\n",
       "      <th>weight</th>\n",
       "      <th>bmi</th>\n",
       "    </tr>\n",
       "  </thead>\n",
       "  <tbody>\n",
       "    <tr>\n",
       "      <th>0</th>\n",
       "      <td>1</td>\n",
       "      <td>58</td>\n",
       "      <td>F</td>\n",
       "      <td>W</td>\n",
       "      <td>160.0</td>\n",
       "      <td>59.0</td>\n",
       "      <td>23.0</td>\n",
       "    </tr>\n",
       "    <tr>\n",
       "      <th>1</th>\n",
       "      <td>2</td>\n",
       "      <td>56</td>\n",
       "      <td>F</td>\n",
       "      <td>W</td>\n",
       "      <td>175.2</td>\n",
       "      <td>139.6</td>\n",
       "      <td>45.5</td>\n",
       "    </tr>\n",
       "    <tr>\n",
       "      <th>2</th>\n",
       "      <td>3</td>\n",
       "      <td>73</td>\n",
       "      <td>F</td>\n",
       "      <td>W</td>\n",
       "      <td>162.3</td>\n",
       "      <td>87.5</td>\n",
       "      <td>33.2</td>\n",
       "    </tr>\n",
       "    <tr>\n",
       "      <th>3</th>\n",
       "      <td>4</td>\n",
       "      <td>53</td>\n",
       "      <td>M</td>\n",
       "      <td>B</td>\n",
       "      <td>166.0</td>\n",
       "      <td>73.0</td>\n",
       "      <td>26.5</td>\n",
       "    </tr>\n",
       "  </tbody>\n",
       "</table>\n",
       "</div>"
      ],
      "text/plain": [
       "   source_wsi  age sex race  height  weight   bmi\n",
       "0           1   58   F    W   160.0    59.0  23.0\n",
       "1           2   56   F    W   175.2   139.6  45.5\n",
       "2           3   73   F    W   162.3    87.5  33.2\n",
       "3           4   53   M    B   166.0    73.0  26.5"
      ]
     },
     "execution_count": 13,
     "metadata": {},
     "output_type": "execute_result"
    }
   ],
   "source": [
    "wsi_metadata.head()"
   ]
  },
  {
   "cell_type": "code",
   "execution_count": 14,
   "id": "3888000f",
   "metadata": {
    "execution": {
     "iopub.execute_input": "2023-07-11T21:18:25.579825Z",
     "iopub.status.busy": "2023-07-11T21:18:25.579214Z",
     "iopub.status.idle": "2023-07-11T21:18:25.602143Z",
     "shell.execute_reply": "2023-07-11T21:18:25.601204Z"
    },
    "papermill": {
     "duration": 0.045483,
     "end_time": "2023-07-11T21:18:25.604187",
     "exception": false,
     "start_time": "2023-07-11T21:18:25.558704",
     "status": "completed"
    },
    "tags": []
   },
   "outputs": [
    {
     "data": {
      "text/html": [
       "<div>\n",
       "<style scoped>\n",
       "    .dataframe tbody tr th:only-of-type {\n",
       "        vertical-align: middle;\n",
       "    }\n",
       "\n",
       "    .dataframe tbody tr th {\n",
       "        vertical-align: top;\n",
       "    }\n",
       "\n",
       "    .dataframe thead th {\n",
       "        text-align: right;\n",
       "    }\n",
       "</style>\n",
       "<table border=\"1\" class=\"dataframe\">\n",
       "  <thead>\n",
       "    <tr style=\"text-align: right;\">\n",
       "      <th></th>\n",
       "      <th>source_wsi</th>\n",
       "      <th>age</th>\n",
       "      <th>height</th>\n",
       "      <th>weight</th>\n",
       "      <th>bmi</th>\n",
       "    </tr>\n",
       "  </thead>\n",
       "  <tbody>\n",
       "    <tr>\n",
       "      <th>count</th>\n",
       "      <td>4.000000</td>\n",
       "      <td>4.000000</td>\n",
       "      <td>4.00000</td>\n",
       "      <td>4.000000</td>\n",
       "      <td>4.00000</td>\n",
       "    </tr>\n",
       "    <tr>\n",
       "      <th>mean</th>\n",
       "      <td>2.500000</td>\n",
       "      <td>60.000000</td>\n",
       "      <td>165.87500</td>\n",
       "      <td>89.775000</td>\n",
       "      <td>32.05000</td>\n",
       "    </tr>\n",
       "    <tr>\n",
       "      <th>std</th>\n",
       "      <td>1.290994</td>\n",
       "      <td>8.906926</td>\n",
       "      <td>6.68998</td>\n",
       "      <td>35.195679</td>\n",
       "      <td>9.91514</td>\n",
       "    </tr>\n",
       "    <tr>\n",
       "      <th>min</th>\n",
       "      <td>1.000000</td>\n",
       "      <td>53.000000</td>\n",
       "      <td>160.00000</td>\n",
       "      <td>59.000000</td>\n",
       "      <td>23.00000</td>\n",
       "    </tr>\n",
       "    <tr>\n",
       "      <th>25%</th>\n",
       "      <td>1.750000</td>\n",
       "      <td>55.250000</td>\n",
       "      <td>161.72500</td>\n",
       "      <td>69.500000</td>\n",
       "      <td>25.62500</td>\n",
       "    </tr>\n",
       "    <tr>\n",
       "      <th>50%</th>\n",
       "      <td>2.500000</td>\n",
       "      <td>57.000000</td>\n",
       "      <td>164.15000</td>\n",
       "      <td>80.250000</td>\n",
       "      <td>29.85000</td>\n",
       "    </tr>\n",
       "    <tr>\n",
       "      <th>75%</th>\n",
       "      <td>3.250000</td>\n",
       "      <td>61.750000</td>\n",
       "      <td>168.30000</td>\n",
       "      <td>100.525000</td>\n",
       "      <td>36.27500</td>\n",
       "    </tr>\n",
       "    <tr>\n",
       "      <th>max</th>\n",
       "      <td>4.000000</td>\n",
       "      <td>73.000000</td>\n",
       "      <td>175.20000</td>\n",
       "      <td>139.600000</td>\n",
       "      <td>45.50000</td>\n",
       "    </tr>\n",
       "  </tbody>\n",
       "</table>\n",
       "</div>"
      ],
      "text/plain": [
       "       source_wsi        age     height      weight       bmi\n",
       "count    4.000000   4.000000    4.00000    4.000000   4.00000\n",
       "mean     2.500000  60.000000  165.87500   89.775000  32.05000\n",
       "std      1.290994   8.906926    6.68998   35.195679   9.91514\n",
       "min      1.000000  53.000000  160.00000   59.000000  23.00000\n",
       "25%      1.750000  55.250000  161.72500   69.500000  25.62500\n",
       "50%      2.500000  57.000000  164.15000   80.250000  29.85000\n",
       "75%      3.250000  61.750000  168.30000  100.525000  36.27500\n",
       "max      4.000000  73.000000  175.20000  139.600000  45.50000"
      ]
     },
     "execution_count": 14,
     "metadata": {},
     "output_type": "execute_result"
    }
   ],
   "source": [
    "wsi_metadata.describe()"
   ]
  },
  {
   "cell_type": "code",
   "execution_count": 15,
   "id": "8bf7f9ec",
   "metadata": {
    "execution": {
     "iopub.execute_input": "2023-07-11T21:18:25.645765Z",
     "iopub.status.busy": "2023-07-11T21:18:25.645031Z",
     "iopub.status.idle": "2023-07-11T21:18:25.751876Z",
     "shell.execute_reply": "2023-07-11T21:18:25.750803Z"
    },
    "papermill": {
     "duration": 0.131097,
     "end_time": "2023-07-11T21:18:25.755191",
     "exception": false,
     "start_time": "2023-07-11T21:18:25.624094",
     "status": "completed"
    },
    "tags": []
   },
   "outputs": [
    {
     "data": {
      "image/png": "[encoded data removed]",
      "text/plain": [
       "<Figure size 640x480 with 1 Axes>"
      ]
     },
     "metadata": {},
     "output_type": "display_data"
    }
   ],
   "source": [
    "sex_counts = wsi_metadata.sex.value_counts()\n",
    "\n",
    "plt.pie(sex_counts.values, labels=sex_counts.index, autopct='%1.1f%%')\n",
    "plt.title(\"Distribution of Sexes\")\n",
    "\n",
    "plt.show()"
   ]
  },
  {
   "cell_type": "code",
   "execution_count": 16,
   "id": "c40f288d",
   "metadata": {
    "execution": {
     "iopub.execute_input": "2023-07-11T21:18:25.842173Z",
     "iopub.status.busy": "2023-07-11T21:18:25.841867Z",
     "iopub.status.idle": "2023-07-11T21:18:25.952692Z",
     "shell.execute_reply": "2023-07-11T21:18:25.951650Z"
    },
    "papermill": {
     "duration": 0.15547,
     "end_time": "2023-07-11T21:18:25.956156",
     "exception": false,
     "start_time": "2023-07-11T21:18:25.800686",
     "status": "completed"
    },
    "tags": []
   },
   "outputs": [
    {
     "data": {
      "image/png": "[encoded data removed]",
      "text/plain": [
       "<Figure size 640x480 with 1 Axes>"
      ]
     },
     "metadata": {},
     "output_type": "display_data"
    }
   ],
   "source": [
    "race_counts = wsi_metadata.race.value_counts()\n",
    "\n",
    "plt.pie(race_counts.values, labels=race_counts.index, autopct='%1.1f%%')\n",
    "plt.title(\"Distribution of races\")\n",
    "\n",
    "plt.show()"
   ]
  },
  {
   "cell_type": "markdown",
   "id": "a2e917df",
   "metadata": {
    "papermill": {
     "duration": 0.03982,
     "end_time": "2023-07-11T21:18:26.042002",
     "exception": false,
     "start_time": "2023-07-11T21:18:26.002182",
     "status": "completed"
    },
    "tags": []
   },
   "source": [
    "## Exploring Polygons.jsonl"
   ]
  },
  {
   "cell_type": "code",
   "execution_count": 17,
   "id": "a96b0828",
   "metadata": {
    "execution": {
     "iopub.execute_input": "2023-07-11T21:18:26.084141Z",
     "iopub.status.busy": "2023-07-11T21:18:26.083826Z",
     "iopub.status.idle": "2023-07-11T21:18:30.342816Z",
     "shell.execute_reply": "2023-07-11T21:18:30.341840Z"
    },
    "papermill": {
     "duration": 4.282781,
     "end_time": "2023-07-11T21:18:30.345087",
     "exception": false,
     "start_time": "2023-07-11T21:18:26.062306",
     "status": "completed"
    },
    "tags": []
   },
   "outputs": [
    {
     "data": {
      "text/html": [
       "<div>\n",
       "<style scoped>\n",
       "    .dataframe tbody tr th:only-of-type {\n",
       "        vertical-align: middle;\n",
       "    }\n",
       "\n",
       "    .dataframe tbody tr th {\n",
       "        vertical-align: top;\n",
       "    }\n",
       "\n",
       "    .dataframe thead th {\n",
       "        text-align: right;\n",
       "    }\n",
       "</style>\n",
       "<table border=\"1\" class=\"dataframe\">\n",
       "  <thead>\n",
       "    <tr style=\"text-align: right;\">\n",
       "      <th></th>\n",
       "      <th>id</th>\n",
       "      <th>annotations</th>\n",
       "    </tr>\n",
       "  </thead>\n",
       "  <tbody>\n",
       "    <tr>\n",
       "      <th>0</th>\n",
       "      <td>0006ff2aa7cd</td>\n",
       "      <td>[{'type': 'glomerulus', 'coordinates': [[[167,...</td>\n",
       "    </tr>\n",
       "    <tr>\n",
       "      <th>1</th>\n",
       "      <td>00168d1b7522</td>\n",
       "      <td>[{'type': 'glomerulus', 'coordinates': [[[511,...</td>\n",
       "    </tr>\n",
       "    <tr>\n",
       "      <th>2</th>\n",
       "      <td>0033bbc76b6b</td>\n",
       "      <td>[{'type': 'blood_vessel', 'coordinates': [[[16...</td>\n",
       "    </tr>\n",
       "    <tr>\n",
       "      <th>3</th>\n",
       "      <td>003504460b3a</td>\n",
       "      <td>[{'type': 'blood_vessel', 'coordinates': [[[40...</td>\n",
       "    </tr>\n",
       "    <tr>\n",
       "      <th>4</th>\n",
       "      <td>004daf1cbe75</td>\n",
       "      <td>[{'type': 'blood_vessel', 'coordinates': [[[14...</td>\n",
       "    </tr>\n",
       "  </tbody>\n",
       "</table>\n",
       "</div>"
      ],
      "text/plain": [
       "             id                                        annotations\n",
       "0  0006ff2aa7cd  [{'type': 'glomerulus', 'coordinates': [[[167,...\n",
       "1  00168d1b7522  [{'type': 'glomerulus', 'coordinates': [[[511,...\n",
       "2  0033bbc76b6b  [{'type': 'blood_vessel', 'coordinates': [[[16...\n",
       "3  003504460b3a  [{'type': 'blood_vessel', 'coordinates': [[[40...\n",
       "4  004daf1cbe75  [{'type': 'blood_vessel', 'coordinates': [[[14..."
      ]
     },
     "execution_count": 17,
     "metadata": {},
     "output_type": "execute_result"
    }
   ],
   "source": [
    "polygons_df = pd.read_json(f\"{BASE_DIR}polygons.jsonl\", lines=True)\n",
    "polygons_df.head()"
   ]
  },
  {
   "cell_type": "markdown",
   "id": "450c328b",
   "metadata": {
    "papermill": {
     "duration": 0.02037,
     "end_time": "2023-07-11T21:18:30.388212",
     "exception": false,
     "start_time": "2023-07-11T21:18:30.367842",
     "status": "completed"
    },
    "tags": []
   },
   "source": [
    "Each ID has only one set of annotations"
   ]
  },
  {
   "cell_type": "code",
   "execution_count": 18,
   "id": "cf37aa01",
   "metadata": {
    "execution": {
     "iopub.execute_input": "2023-07-11T21:18:30.431291Z",
     "iopub.status.busy": "2023-07-11T21:18:30.430315Z",
     "iopub.status.idle": "2023-07-11T21:18:30.438294Z",
     "shell.execute_reply": "2023-07-11T21:18:30.437599Z"
    },
    "papermill": {
     "duration": 0.031571,
     "end_time": "2023-07-11T21:18:30.440103",
     "exception": false,
     "start_time": "2023-07-11T21:18:30.408532",
     "status": "completed"
    },
    "tags": []
   },
   "outputs": [
    {
     "data": {
      "text/plain": [
       "array([1], dtype=int64)"
      ]
     },
     "execution_count": 18,
     "metadata": {},
     "output_type": "execute_result"
    }
   ],
   "source": [
    "polygons_df[\"id\"].value_counts().unique() # each if only has one annotation"
   ]
  },
  {
   "cell_type": "code",
   "execution_count": 19,
   "id": "532ea980",
   "metadata": {
    "execution": {
     "iopub.execute_input": "2023-07-11T21:18:30.483140Z",
     "iopub.status.busy": "2023-07-11T21:18:30.482384Z",
     "iopub.status.idle": "2023-07-11T21:18:30.489591Z",
     "shell.execute_reply": "2023-07-11T21:18:30.488601Z"
    },
    "papermill": {
     "duration": 0.031115,
     "end_time": "2023-07-11T21:18:30.491634",
     "exception": false,
     "start_time": "2023-07-11T21:18:30.460519",
     "status": "completed"
    },
    "tags": []
   },
   "outputs": [
    {
     "data": {
      "text/plain": [
       "1633"
      ]
     },
     "execution_count": 19,
     "metadata": {},
     "output_type": "execute_result"
    }
   ],
   "source": [
    "len(polygons_df) # this is the number of training examples"
   ]
  }
 ],
 "metadata": {
  "kernelspec": {
   "display_name": "Python 3",
   "language": "python",
   "name": "python3"
  },
  "language_info": {
   "codemirror_mode": {
    "name": "ipython",
    "version": 3
   },
   "file_extension": ".py",
   "mimetype": "text/x-python",
   "name": "python",
   "nbconvert_exporter": "python",
   "pygments_lexer": "ipython3",
   "version": "3.11.4"
  },
  "papermill": {
   "default_parameters": {},
   "duration": 24061.232298,
   "end_time": "2023-07-12T03:58:36.616562",
   "environment_variables": {},
   "exception": null,
   "input_path": "__notebook__.ipynb",
   "output_path": "__notebook__.ipynb",
   "parameters": {},
   "start_time": "2023-07-11T21:17:35.384264",
   "version": "2.4.0"
  }
 },
 "nbformat": 4,
 "nbformat_minor": 5
}
